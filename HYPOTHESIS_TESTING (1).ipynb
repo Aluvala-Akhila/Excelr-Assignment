{
  "nbformat": 4,
  "nbformat_minor": 0,
  "metadata": {
    "colab": {
      "provenance": []
    },
    "kernelspec": {
      "name": "python3",
      "display_name": "Python 3"
    },
    "language_info": {
      "name": "python"
    }
  },
  "cells": [
    {
      "cell_type": "markdown",
      "source": [
        "\n",
        "Bombay hospitality Ltd. operates a franchise model for producing exotic Norwegian dinners throughout New England. The operating cost for a franchise in a week (W) is given by the equation W = $1,000 + $5X, where X represents the number of units produced in a week. Recent feedback from restaurant owners suggests that this cost model may no longer be accurate, as their observed weekly operating costs are higher.\n",
        "\n",
        "Objective:\n",
        "To investigate the restaurant owners' claim about the increase in weekly operating costs using hypothesis testing.\n",
        "\n",
        "Data Provided:\n",
        "•\tThe theoretical weekly operating cost model: W = $1,000 + $5X\n",
        "\n",
        "•\tSample of 25 restaurants with a mean weekly cost of Rs. 3,050\n",
        "\n",
        "•\tNumber of units produced in a week (X) follows a normal distribution with a mean (μ) of 600 units and a standard deviation (σ) of 25 units\n"
      ],
      "metadata": {
        "id": "MeKdx-crHxvU"
      }
    },
    {
      "cell_type": "markdown",
      "source": [
        "Assignment Tasks:\n",
        "1. State the Hypotheses statement:\n",
        "2. Calculate the Test Statistic:\n"
      ],
      "metadata": {
        "id": "EjgUGgYjq-4v"
      }
    },
    {
      "cell_type": "markdown",
      "source": [
        "\n",
        "state the hypothesis Statement\n",
        "\n",
        "Definition:\n",
        "A hypothesis is a statement or assumption that is tested through statistical analysis to determine whether it is true or false.\n",
        "\n",
        "\n",
        "for ex:\n",
        "\n",
        "Does drinking coffee improve cognitive function?\n",
        "\n",
        "- **Null Hypothesis (H0 **): Drinking coffee has no effect on cognitive function.\n",
        "-** Alternative Hypothesis (H1)**: Drinking coffee improves cognitive function.\n",
        "\n"
      ],
      "metadata": {
        "id": "NO1XCcXlrKdL"
      }
    },
    {
      "cell_type": "markdown",
      "source": [
        "2.Calcluate the test Statistic:\n",
        "\n",
        "**Steps**\n",
        "\n",
        "1.import requried libraries\n",
        "\n",
        "2. given values should arrange\n",
        "\n",
        "3. 3.1:\n",
        " caluclate theoretical cost based on model\n",
        "\n",
        " formula:\n",
        "   \n",
        "   w=1000+5*x\n",
        "\n",
        "  3.2:\n",
        "\n",
        "  Calculate standard deviation of cost\n",
        "\n",
        "  3.3:\n",
        "  \n",
        "  Standard Error\n",
        "\n",
        "  3.4:\n",
        "\n",
        " Calcluate-Statistic\n",
        "\n",
        " 3.5:\n",
        "\n",
        " Determine critical value for  one-tailed test\n",
        "\n",
        " 3.6:\n",
        "\n",
        " Decision\n"
      ],
      "metadata": {
        "id": "Erf79Hu0usf1"
      }
    },
    {
      "cell_type": "code",
      "execution_count": 2,
      "metadata": {
        "colab": {
          "base_uri": "https://localhost:8080/"
        },
        "id": "LoAY7aBaHsT0",
        "outputId": "7364123a-2cdd-4a1e-f121-f4560ae82a2f"
      },
      "outputs": [
        {
          "output_type": "stream",
          "name": "stdout",
          "text": [
            "4000\n",
            "125\n"
          ]
        }
      ],
      "source": [
        "\n",
        "import math\n",
        "from scipy.stats import norm\n",
        "sample_mean=4050\n",
        "x_mean=600\n",
        "x_std_size=25\n",
        "sample_size=25\n",
        "aplha=0.05\n",
        "theoritical_mean=1000+5*x_mean\n",
        "cost_std_dev=5*x_std_size\n",
        "print(theoritical_mean)\n",
        "print(cost_std_dev)"
      ]
    },
    {
      "cell_type": "code",
      "source": [
        "SE=cost_std_dev/math.sqrt(sample_size)\n",
        "print(SE)\n",
        "z_statistic=(sample_mean-theoritical_mean)/SE\n",
        "print(z_statistic)\n",
        "z_critical=norm.ppf(1-aplha)\n",
        "print(z_critical)"
      ],
      "metadata": {
        "colab": {
          "base_uri": "https://localhost:8080/"
        },
        "id": "d0ecQ1FkrJ2c",
        "outputId": "ca5f7b9b-8dd7-4232-8c51-036d85681322"
      },
      "execution_count": 4,
      "outputs": [
        {
          "output_type": "stream",
          "name": "stdout",
          "text": [
            "25.0\n",
            "2.0\n",
            "1.6448536269514722\n"
          ]
        }
      ]
    },
    {
      "cell_type": "code",
      "source": [
        "if z_statistic>z_critical:\n",
        "    print(\"Reject the null hypothesis\")\n",
        "else:\n",
        "    print(\"Fail to reject the null hypothesis\")"
      ],
      "metadata": {
        "colab": {
          "base_uri": "https://localhost:8080/"
        },
        "id": "MNOIPnwPuVb8",
        "outputId": "b4985e8f-0943-498c-90d0-aba5f618520c"
      },
      "execution_count": 5,
      "outputs": [
        {
          "output_type": "stream",
          "name": "stdout",
          "text": [
            "Reject the null hypothesis\n"
          ]
        }
      ]
    },
    {
      "cell_type": "markdown",
      "source": [
        "**Conclusion :**\n",
        "\n",
        "The theoretical weekly cost according to the model is Rs. 4000 (W = 1000 + 5 × 600).\n",
        "\n",
        "The observed sample mean cost from 25 restaurants is Rs. 4050.\n",
        "\n",
        "The Z-statistic calculated is 2.0, which is greater than the critical value of 1.645 at a 5% significance level (one-tailed test)."
      ],
      "metadata": {
        "id": "BfG-pv4AxGet"
      }
    },
    {
      "cell_type": "markdown",
      "source": [
        "There is sufficient statistical evidence at the 5% significance level to support the restaurant owners' claim that the actual weekly operating costs are higher than those predicted by the original cost model. This suggests that the company should consider revising the cost model to better reflect the current operating conditions"
      ],
      "metadata": {
        "id": "dlnZzZhGxgfX"
      }
    }
  ]
}