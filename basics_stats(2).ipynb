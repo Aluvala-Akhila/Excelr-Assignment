{
  "nbformat": 4,
  "nbformat_minor": 0,
  "metadata": {
    "colab": {
      "provenance": []
    },
    "kernelspec": {
      "name": "python3",
      "display_name": "Python 3"
    },
    "language_info": {
      "name": "python"
    }
  },
  "cells": [
    {
      "cell_type": "markdown",
      "source": [
        "\n",
        "Background\n",
        "In quality control processes, especially when dealing with high-value items, destructive sampling is a necessary but costly method to ensure product quality. The test to determine whether an item meets the quality standards destroys the item, leading to the requirement of small sample sizes due to cost constraints.\n",
        "Scenario\n",
        "A manufacturer of print-heads for personal computers is interested in estimating the mean durability of their print-heads in terms of the number of characters printed before failure. To assess this, the manufacturer conducts a study on a small sample of print-heads due to the destructive nature of the testing process.\n",
        "Data\n",
        "A total of 15 print-heads were randomly selected and tested until failure. The durability of each print-head (in millions of characters) was recorded as follows:\n",
        "1.13, 1.55, 1.43, 0.92, 1.25, 1.36, 1.32, 0.85, 1.07, 1.48, 1.20, 1.33, 1.18, 1.22, 1.29\n",
        "\n",
        "Assignment Tasks\n",
        "\n",
        "a. Build 99% Confidence Interval Using Sample Standard Deviation\n",
        "Assuming the sample is representative of the population, construct a 99% confidence interval for the mean number of characters printed before the print-head fails using the sample standard deviation. Explain the steps you take and the rationale behind using the t-distribution for this task.\n",
        "\n",
        "b. Build 99% Confidence Interval Using Known Population Standard Deviation\n",
        "If it were known that the population standard deviation is 0.2 million characters, construct a 99% confidence interval for the mean number of characters printed before failure\n",
        "\n"
      ],
      "metadata": {
        "id": "_lOzm7wdrsaH"
      }
    },
    {
      "cell_type": "markdown",
      "source": [
        "Part a: 99% Confidence Interval Using Sample Standard Deviation\n",
        "\n",
        "1. Calculate the sample mean:\n",
        "    - Sample mean (x̄) = (1.13 + 1.55 + 1.43 + 0.92 + 1.25 + 1.36 + 1.32 + 0.85 + 1.07 + 1.48 + 1.20 + 1.33 + 1.18 + 1.22 + 1.29) / 15\n",
        "    - x̄ = 18.98 / 15\n",
        "    - x̄ = 1.2653\n",
        "\n",
        "2. Calculate the sample standard deviation:\n",
        "    - Calculate the deviations from the mean and their squares\n",
        "    - Calculate the sample variance: s² = Σ(xi - x̄)² / (n - 1)\n",
        "    - Calculate the sample standard deviation: s = √s²\n",
        "    - s ≈ 0.195\n",
        "\n",
        "3. Determine the critical t-value:\n",
        "    - Degrees of freedom = n - 1 = 15 - 1 = 14\n",
        "    - Alpha = 0.01 for a 99% confidence interval\n",
        "    - Critical t-value = stats.t.ppf(1 - alpha / 2, degrees_of_freedom)\n",
        "    - Critical t-value ≈ 2.977\n",
        "\n",
        "4. Calculate the margin of error:\n",
        "    - Margin of error = critical t-value * (s / √n)\n",
        "    - Margin of error ≈ 2.977 * (0.195 / √15)\n",
        "    - Margin of error ≈ 0.15\n",
        "\n",
        "5. Construct the 99% confidence interval:\n",
        "    - 99% CI = x̄ ± margin of error\n",
        "    - 99% CI = (1.1153, 1.4153)\n"
      ],
      "metadata": {
        "id": "Tgca3Pe5sK35"
      }
    },
    {
      "cell_type": "markdown",
      "source": [
        "steps:\n",
        "\n",
        "1.import required lib\n",
        "\n",
        "2.Calculate sample mean\n",
        "\n",
        "3.Calculate sample standard deviation\n",
        "\n",
        "4.Determine critical t-value\n",
        "\n",
        "5.Calculate margin of error\n",
        "\n",
        "6.Construct 99% confidence interval"
      ],
      "metadata": {
        "id": "iNfZE9A7tBAp"
      }
    },
    {
      "cell_type": "code",
      "source": [
        "# Step 1&2:\n",
        "import numpy as np\n",
        "from scipy import stats\n",
        "data = np.array([1.13, 1.55, 1.43, 0.92, 1.25, 1.36, 1.32, 0.85, 1.07, 1.48, 1.20, 1.33, 1.18, 1.22, 1.29])\n",
        "\n",
        "# Calculate sample mean\n",
        "sample_mean = np.mean(data)\n",
        "print(\"Sample Mean:\", sample_mean)"
      ],
      "metadata": {
        "colab": {
          "base_uri": "https://localhost:8080/"
        },
        "id": "IDvWsdv7tb5a",
        "outputId": "987919ec-0050-4638-d1f3-e084d8d1e76a"
      },
      "execution_count": 4,
      "outputs": [
        {
          "output_type": "stream",
          "name": "stdout",
          "text": [
            "Sample Mean: 1.2386666666666666\n"
          ]
        }
      ]
    },
    {
      "cell_type": "code",
      "source": [
        "# Step3:\n",
        "sample_std_dev = np.std(data, ddof=1)\n",
        "print(\"Sample Standard Deviation:\", sample_std_dev)"
      ],
      "metadata": {
        "colab": {
          "base_uri": "https://localhost:8080/"
        },
        "id": "MW2FIG-gt4eF",
        "outputId": "1d5617e0-9e6b-4fcf-b31c-d5b518f3b028"
      },
      "execution_count": 5,
      "outputs": [
        {
          "output_type": "stream",
          "name": "stdout",
          "text": [
            "Sample Standard Deviation: 0.19316412956959936\n"
          ]
        }
      ]
    },
    {
      "cell_type": "code",
      "source": [
        "# step4:\n",
        "degrees_of_freedom = len(data) - 1\n",
        "alpha = 0.01\n",
        "critical_t_value = stats.t.ppf(1 - alpha / 2, degrees_of_freedom)\n",
        "print(\"Critical t-value:\", critical_t_value)"
      ],
      "metadata": {
        "colab": {
          "base_uri": "https://localhost:8080/"
        },
        "id": "_Fqm_v7tt-xd",
        "outputId": "b2b3a8c2-591f-4106-bc76-631dd1b662a2"
      },
      "execution_count": 7,
      "outputs": [
        {
          "output_type": "stream",
          "name": "stdout",
          "text": [
            "Critical t-value: 2.976842734370834\n"
          ]
        }
      ]
    },
    {
      "cell_type": "code",
      "source": [
        "# Step 5:\n",
        "margin_of_error = critical_t_value * (sample_std_dev / np.sqrt(len(data)))\n",
        "print(\"Margin of Error:\", margin_of_error)"
      ],
      "metadata": {
        "colab": {
          "base_uri": "https://localhost:8080/"
        },
        "id": "tGDEQJ75uN0W",
        "outputId": "11404304-56f5-4b69-ffad-531574d45adc"
      },
      "execution_count": 9,
      "outputs": [
        {
          "output_type": "stream",
          "name": "stdout",
          "text": [
            "Margin of Error: 0.14846932822817596\n"
          ]
        }
      ]
    },
    {
      "cell_type": "code",
      "execution_count": 8,
      "metadata": {
        "colab": {
          "base_uri": "https://localhost:8080/"
        },
        "id": "3nX6OFDbrql8",
        "outputId": "1391aa92-91f1-4384-fb5d-71c4904e856a"
      },
      "outputs": [
        {
          "output_type": "stream",
          "name": "stdout",
          "text": [
            "99% Confidence Interval: (np.float64(1.0901973384384906), np.float64(1.3871359948948425))\n"
          ]
        }
      ],
      "source": [
        "\n",
        "\n",
        "\n",
        "# Step6:\n",
        "confidence_interval = (sample_mean - margin_of_error, sample_mean + margin_of_error)\n",
        "print(\"99% Confidence Interval:\", confidence_interval)"
      ]
    },
    {
      "cell_type": "markdown",
      "source": [
        "Part b: 99% Confidence Interval Using Known Population Standard Deviation\n",
        "\n",
        "1. Given population standard deviation: σ = 0.2\n",
        "\n",
        "2. Determine the critical z-value:\n",
        "    - Alpha = 0.01 for a 99% confidence interval\n",
        "    - Critical z-value = stats.norm.ppf(1 - alpha / 2)\n",
        "    - Critical z-value ≈ 2.576\n",
        "\n",
        "3. Calculate the margin of error:\n",
        "    - Margin of error = critical z-value * (σ / √n)\n",
        "    - Margin of error ≈ 2.576 * (0.2 / √15)\n",
        "    - Margin of error ≈ 0.133\n",
        "\n",
        "4. Construct the 99% confidence interval:\n",
        "    - 99% CI = x̄ ± margin of error\n",
        "    - 99% CI = (1.1323, 1.3983)\n"
      ],
      "metadata": {
        "id": "qTKOcybis4Cb"
      }
    },
    {
      "cell_type": "markdown",
      "source": [
        "Steps:\n",
        "\n",
        "1. import requried lib\n",
        "\n",
        "2.enter data\n",
        "\n",
        "3.Calculate sample mean\n",
        "\n",
        "4.Given population Standrad Deviation\n",
        "\n",
        "5. Determine critical z-value"
      ],
      "metadata": {
        "id": "yLgupAsduQy9"
      }
    },
    {
      "cell_type": "code",
      "source": [
        "#Step 1&2:\n",
        "import numpy as np\n",
        "from scipy import stats\n",
        "\n",
        "\n",
        "data = np.array([1.13, 1.55, 1.43, 0.92, 1.25, 1.36, 1.32, 0.85, 1.07, 1.48, 1.20, 1.33, 1.18, 1.22, 1.29])\n"
      ],
      "metadata": {
        "id": "ntMeghkXus8A"
      },
      "execution_count": 10,
      "outputs": []
    },
    {
      "cell_type": "code",
      "source": [
        "#step3:\n",
        "sample_mean = np.mean(data)\n",
        "print(\"Sample Mean:\", sample_mean)"
      ],
      "metadata": {
        "colab": {
          "base_uri": "https://localhost:8080/"
        },
        "id": "zSIDJe6tu3LY",
        "outputId": "9a982249-f55d-4a35-f3cf-8ae357b62f09"
      },
      "execution_count": 11,
      "outputs": [
        {
          "output_type": "stream",
          "name": "stdout",
          "text": [
            "Sample Mean: 1.2386666666666666\n"
          ]
        }
      ]
    },
    {
      "cell_type": "code",
      "source": [
        "#step4:\n",
        "population_std_dev = 0.2"
      ],
      "metadata": {
        "id": "X6HwIPpeu49M"
      },
      "execution_count": 12,
      "outputs": []
    },
    {
      "cell_type": "code",
      "source": [
        "#step5:\n",
        "alpha = 0.01\n",
        "critical_z_value = stats.norm.ppf(1 - alpha / 2)\n",
        "print(\"Critical z-value:\", critical_z_value)"
      ],
      "metadata": {
        "colab": {
          "base_uri": "https://localhost:8080/"
        },
        "id": "p5eYFsQMu_o_",
        "outputId": "301b2902-b6a8-4b24-ab26-075aff085705"
      },
      "execution_count": 13,
      "outputs": [
        {
          "output_type": "stream",
          "name": "stdout",
          "text": [
            "Critical z-value: 2.5758293035489004\n"
          ]
        }
      ]
    }
  ]
}