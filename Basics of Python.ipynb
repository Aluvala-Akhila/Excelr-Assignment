{
  "nbformat": 4,
  "nbformat_minor": 0,
  "metadata": {
    "colab": {
      "provenance": []
    },
    "kernelspec": {
      "name": "python3",
      "display_name": "Python 3"
    },
    "language_info": {
      "name": "python"
    }
  },
  "cells": [
    {
      "cell_type": "markdown",
      "source": [
        "Exercise 1: Prime NUmber\n",
        "Write a Python program that checks whether a given number is prime or not. A prime number is a natural number greater than 1 that has no positive divisors other than 1 and itself."
      ],
      "metadata": {
        "id": "R46hxJIaTC2-"
      }
    },
    {
      "cell_type": "code",
      "execution_count": 1,
      "metadata": {
        "colab": {
          "base_uri": "https://localhost:8080/"
        },
        "id": "33_eu_9VTB5I",
        "outputId": "d0419e92-2153-40e4-87d3-c67c3f866aaa"
      },
      "outputs": [
        {
          "output_type": "stream",
          "name": "stdout",
          "text": [
            "Enter a number: 18\n",
            " given number is Not prime\n"
          ]
        }
      ],
      "source": [
        "num = int(input(\"Enter a number: \"))\n",
        "\n",
        "if num > 1:\n",
        "    for i in range(2, num):\n",
        "        if num % i == 0:\n",
        "            print(\" given number is Not prime\")\n",
        "            break\n",
        "    else:\n",
        "        print(\" given number is Prime\")\n",
        "else:\n",
        "    print(\"Not prime\")\n"
      ]
    },
    {
      "cell_type": "markdown",
      "source": [
        "Exercise 2: Product of Random Numbers\n",
        "Develop a Python program that generates two random numbers and asks the user to enter the product of these numbers. The program should then check if the user's answer is correct and display an appropriate message.\n"
      ],
      "metadata": {
        "id": "A03ykeWkTqwi"
      }
    },
    {
      "cell_type": "code",
      "source": [
        "a= int(input(\"enter a number :\"))\n",
        "b=int(input(\"enter a number :\"))\n",
        "user_answer=int(input(f\"what is {a}*{b}?\"))\n",
        "correct_answer=a*b\n",
        "if user_answer==correct_answer:\n",
        "    print(\"corret answer\")\n",
        "else:\n",
        "    print(\"incorrect. The correct answer is{correct_answer}.\")"
      ],
      "metadata": {
        "colab": {
          "base_uri": "https://localhost:8080/"
        },
        "id": "Hpqi1PnjTzOi",
        "outputId": "b839312b-984f-4aec-dd68-3f6ed73d60b2"
      },
      "execution_count": 3,
      "outputs": [
        {
          "output_type": "stream",
          "name": "stdout",
          "text": [
            "enter a number :5\n",
            "enter a number :18\n",
            "what is 5*18?90\n",
            "corret answer\n"
          ]
        }
      ]
    },
    {
      "cell_type": "markdown",
      "source": [
        "Exercise 3: Squares of Even/Odd Numbers\n",
        "Create a Python script that prints the squares of all even or odd numbers within the range of 100 to 200. Choose either even or odd numbers and document your choice in the code\n",
        "\n"
      ],
      "metadata": {
        "id": "_Kgm-Ej6UEFM"
      }
    },
    {
      "cell_type": "code",
      "source": [
        "def print_even_squares(start: int, end: int) -> None:\n",
        "    #Print squares of all even numbers in [start, end].\"\"\"\n",
        "    for number in range(start, end + 1):\n",
        "        if number % 2 == 0:\n",
        "            print(f\"The square of {number} is {number ** 2}\")\n",
        "\n",
        "def print_odd_squares(start: int, end: int) -> None:\n",
        "    #Print squares of all odd numbers in [start, end].\"\"\"\n",
        "    for number in range(start, end + 1):\n",
        "        if number % 2 != 0:\n",
        "            print(f\"The square of {number} is {number ** 2}\")\n",
        "\n",
        "def main() -> None:\n",
        "    start, end = 100, 200\n",
        "\n",
        "    choice = input(\"Do you want squares of even or odd numbers? [even/odd]: \").strip().lower()\n",
        "    if choice in {\"even\", \"e\"}:\n",
        "        print_even_squares(start, end)\n",
        "    elif choice in {\"odd\", \"o\"}:\n",
        "        print_odd_squares(start, end)\n",
        "    else:\n",
        "        print(\"Invalid choice — please run the script again and enter 'even' or 'odd'.\")\n",
        "\n",
        "if __name__ == \"__main__\":\n",
        "    main()"
      ],
      "metadata": {
        "colab": {
          "base_uri": "https://localhost:8080/"
        },
        "id": "hBOO6PXVUK_X",
        "outputId": "01f84f32-bc90-4761-87aa-8c4a6ac68f8b"
      },
      "execution_count": 6,
      "outputs": [
        {
          "output_type": "stream",
          "name": "stdout",
          "text": [
            "Do you want squares of even or odd numbers? [even/odd]: even\n",
            "The square of 100 is 10000\n",
            "The square of 102 is 10404\n",
            "The square of 104 is 10816\n",
            "The square of 106 is 11236\n",
            "The square of 108 is 11664\n",
            "The square of 110 is 12100\n",
            "The square of 112 is 12544\n",
            "The square of 114 is 12996\n",
            "The square of 116 is 13456\n",
            "The square of 118 is 13924\n",
            "The square of 120 is 14400\n",
            "The square of 122 is 14884\n",
            "The square of 124 is 15376\n",
            "The square of 126 is 15876\n",
            "The square of 128 is 16384\n",
            "The square of 130 is 16900\n",
            "The square of 132 is 17424\n",
            "The square of 134 is 17956\n",
            "The square of 136 is 18496\n",
            "The square of 138 is 19044\n",
            "The square of 140 is 19600\n",
            "The square of 142 is 20164\n",
            "The square of 144 is 20736\n",
            "The square of 146 is 21316\n",
            "The square of 148 is 21904\n",
            "The square of 150 is 22500\n",
            "The square of 152 is 23104\n",
            "The square of 154 is 23716\n",
            "The square of 156 is 24336\n",
            "The square of 158 is 24964\n",
            "The square of 160 is 25600\n",
            "The square of 162 is 26244\n",
            "The square of 164 is 26896\n",
            "The square of 166 is 27556\n",
            "The square of 168 is 28224\n",
            "The square of 170 is 28900\n",
            "The square of 172 is 29584\n",
            "The square of 174 is 30276\n",
            "The square of 176 is 30976\n",
            "The square of 178 is 31684\n",
            "The square of 180 is 32400\n",
            "The square of 182 is 33124\n",
            "The square of 184 is 33856\n",
            "The square of 186 is 34596\n",
            "The square of 188 is 35344\n",
            "The square of 190 is 36100\n",
            "The square of 192 is 36864\n",
            "The square of 194 is 37636\n",
            "The square of 196 is 38416\n",
            "The square of 198 is 39204\n",
            "The square of 200 is 40000\n"
          ]
        }
      ]
    },
    {
      "cell_type": "markdown",
      "source": [
        "Exercise 4: Word counter\n",
        "write a program to count the number of words in a given text.\n",
        "example:\n",
        "input_text = \"This is a sample text. This text will be used to demonstrate the word counter.\"\n",
        "Expected output:\n",
        "'This': 2\n",
        "'is': 1\n",
        "'a': 1\n",
        "'sample': 1\n",
        "'text.': 1\n",
        "\n"
      ],
      "metadata": {
        "id": "K6z_KJopUi4p"
      }
    },
    {
      "cell_type": "code",
      "source": [
        "from collections import Counter\n",
        "text = input(\"Enter your text: \")\n",
        "normalized_text = ''.join(char.lower() if char.isalnum() or char.isspace() else ' ' for char in text)\n",
        "words = normalized_text.split()\n",
        "word_count = Counter(words)\n",
        "print(\"\\nWord Count:\")\n",
        "for word, count in word_count.items():\n",
        "    print(f\"{word}: {count}\")"
      ],
      "metadata": {
        "colab": {
          "base_uri": "https://localhost:8080/"
        },
        "id": "vnqgjXseUrpq",
        "outputId": "f0caf43c-2e7c-43c1-e04f-3462de63e14c"
      },
      "execution_count": 7,
      "outputs": [
        {
          "output_type": "stream",
          "name": "stdout",
          "text": [
            "Enter your text: \"This is a sample text. This text will be used to demonstrate the word counter.\"\n",
            "\n",
            "Word Count:\n",
            "this: 2\n",
            "is: 1\n",
            "a: 1\n",
            "sample: 1\n",
            "text: 2\n",
            "will: 1\n",
            "be: 1\n",
            "used: 1\n",
            "to: 1\n",
            "demonstrate: 1\n",
            "the: 1\n",
            "word: 1\n",
            "counter: 1\n"
          ]
        }
      ]
    },
    {
      "cell_type": "markdown",
      "source": [
        "Exercise 5: Check for Palindrome\n",
        "Write a Python function called is_palindrome that takes a string as input and returns True if the string is a palindrome, and False otherwise. A palindrome is a word, phrase, number, or other sequence of characters that reads the same forward and backward, ignoring spaces, punctuation, and capitalization.\n",
        "Example:\n",
        "Input: \"racecar\"\n",
        "Expected Output: True\n"
      ],
      "metadata": {
        "id": "-RGe4YmNUztM"
      }
    },
    {
      "cell_type": "code",
      "source": [
        "#5- CHECK FOR PALINDROME\n",
        "original_str=input(\"Enter a string :\")\n",
        "reverse_str=original_str[::-1]\n",
        "if original_str==reverse_str:\n",
        "    print(\"True\")\n",
        "else:\n",
        "    print(\"False\")"
      ],
      "metadata": {
        "colab": {
          "base_uri": "https://localhost:8080/"
        },
        "id": "g_JYWinwU2kh",
        "outputId": "e79d8cc7-e321-48f0-defb-3b845f91f4a5"
      },
      "execution_count": 8,
      "outputs": [
        {
          "output_type": "stream",
          "name": "stdout",
          "text": [
            "Enter a string :KRISHNA\n",
            "False\n"
          ]
        }
      ]
    }
  ]
}